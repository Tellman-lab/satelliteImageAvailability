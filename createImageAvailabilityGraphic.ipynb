{
 "cells": [
  {
   "cell_type": "markdown",
   "id": "30841a95-2011-4998-b2e7-6942a648624d",
   "metadata": {},
   "source": [
    "# createImageAvailabilityGraphic\n",
    "Code to create a graphic of available satellite images from several typical satellite-sensors, given a user-defined region and time period of interest."
   ]
  },
  {
   "cell_type": "markdown",
   "id": "3ebb6a7e-5fa8-46f2-a5cb-2763239656c4",
   "metadata": {},
   "source": [
    "## 0. Imports"
   ]
  },
  {
   "cell_type": "code",
   "execution_count": 19,
   "id": "3aace738-18ec-4a75-8468-93dc4d34ae58",
   "metadata": {},
   "outputs": [
    {
     "data": {
      "text/plain": [
       "<module 'ImageAvailabilityInfos' from 'C:\\\\Users\\\\alexsaunders\\\\Documents\\\\01_uoa\\\\04_git\\\\satelliteImageAvailability\\\\ImageAvailabilityInfos.py'>"
      ]
     },
     "execution_count": 19,
     "metadata": {},
     "output_type": "execute_result"
    }
   ],
   "source": [
    "import datetime\n",
    "from datetime import timedelta\n",
    "import pandas as pd\n",
    "import numpy as np\n",
    "import seaborn as sns\n",
    "import matplotlib.pyplot as plt\n",
    "import geemap\n",
    "import importlib\n",
    "import ImageAvailabilityVisualisation as viz\n",
    "importlib.reload(viz)\n",
    "import ImageAvailabilityInfos as info\n",
    "importlib.reload(info)"
   ]
  },
  {
   "cell_type": "markdown",
   "id": "9a546c5a-9811-4cc2-9053-675fea378ec7",
   "metadata": {},
   "source": [
    "### Import and authenticate GEE"
   ]
  },
  {
   "cell_type": "code",
   "execution_count": 5,
   "id": "e5eddfcb-4eda-47de-85cc-f655f681c07a",
   "metadata": {},
   "outputs": [],
   "source": [
    "import ee"
   ]
  },
  {
   "cell_type": "code",
   "execution_count": 6,
   "id": "41ed81a3-0951-49d5-bd64-de0f4d79244b",
   "metadata": {},
   "outputs": [
    {
     "data": {
      "text/html": [
       "<p>To authorize access needed by Earth Engine, open the following\n",
       "        URL in a web browser and follow the instructions:</p>\n",
       "        <p><a href=https://code.earthengine.google.com/client-auth?scopes=https%3A//www.googleapis.com/auth/earthengine%20https%3A//www.googleapis.com/auth/devstorage.full_control&request_id=Vda1NzQrwTLBmiWBDGVFfvKoNljnjAwa0TjUVLQnus4&tc=bkGFJX9pOD2GdDqzkG7LX9OCV4YkRaujz-_QKe-9oh0&cc=ejFx4agIcED2TkRa5-mv_A9Dm8BdZAJ7OFQD1x5hMsU>https://code.earthengine.google.com/client-auth?scopes=https%3A//www.googleapis.com/auth/earthengine%20https%3A//www.googleapis.com/auth/devstorage.full_control&request_id=Vda1NzQrwTLBmiWBDGVFfvKoNljnjAwa0TjUVLQnus4&tc=bkGFJX9pOD2GdDqzkG7LX9OCV4YkRaujz-_QKe-9oh0&cc=ejFx4agIcED2TkRa5-mv_A9Dm8BdZAJ7OFQD1x5hMsU</a></p>\n",
       "        <p>The authorization workflow will generate a code, which you should paste in the box below.</p>\n",
       "        "
      ],
      "text/plain": [
       "<IPython.core.display.HTML object>"
      ]
     },
     "metadata": {},
     "output_type": "display_data"
    },
    {
     "name": "stdin",
     "output_type": "stream",
     "text": [
      "Enter verification code:  4/1AfJohXmPv_eG_0aFu5A_TbuhClqrjsz0mUh9LqbXK-3JR5Q85U13vYMio8E\n"
     ]
    },
    {
     "name": "stdout",
     "output_type": "stream",
     "text": [
      "\n",
      "Successfully saved authorization token.\n"
     ]
    }
   ],
   "source": [
    "ee.Authenticate()"
   ]
  },
  {
   "cell_type": "code",
   "execution_count": 7,
   "id": "a2391f17-3408-472e-a757-14bc21c86ab0",
   "metadata": {},
   "outputs": [],
   "source": [
    "ee.Initialize()"
   ]
  },
  {
   "cell_type": "markdown",
   "id": "f7e6b977-1cd0-495f-b0d7-6b5fa42f2941",
   "metadata": {},
   "source": [
    "## 1. Define region and time of interest"
   ]
  },
  {
   "cell_type": "markdown",
   "id": "952c5325-3a13-4d0e-86cb-596aeaf6d054",
   "metadata": {
    "tags": []
   },
   "source": [
    "### Region of Interest"
   ]
  },
  {
   "cell_type": "code",
   "execution_count": 8,
   "id": "b3f89a1f-9b00-488a-bdac-8b92de1a6e9c",
   "metadata": {},
   "outputs": [],
   "source": [
    "# Define the region of interest - using shapefile for Rio_Grande\n",
    "roi_orig = ee.FeatureCollection(\"users/alex-saunders/houston\") # will need to upload shapefile to assets in your own GEE account, or we switch this for shapefile to reside in a earth engine cloud project\n",
    "\n",
    "# Dissolve to one element\n",
    "roi = ee.FeatureCollection(roi_orig.geometry().dissolve())\n",
    "\n",
    "# Get number of elements in the region of interest file (e.g., could have multiple watersheds / admin areas in the same shapefile)\n",
    "n_orig = roi_orig.size().getInfo()\n",
    "n = roi.size().getInfo()"
   ]
  },
  {
   "cell_type": "markdown",
   "id": "27ae3053-9dc9-471e-8028-39186a6d36e7",
   "metadata": {
    "tags": []
   },
   "source": [
    "### Time of interest\n",
    "Currently define the \"central date\" you want to look for and the number of days either side.\n",
    "\n",
    "If preferred can manually specify start and end date as strings in correct format.\n",
    "\n",
    "Can provide multiple dates and multiple images will be created."
   ]
  },
  {
   "cell_type": "code",
   "execution_count": 14,
   "id": "80518da8-30a2-4b25-adbc-582f4cf22469",
   "metadata": {},
   "outputs": [],
   "source": [
    "# Define the dates of interest and the number of days either side of the target date for whcih to create the visualization\n",
    "dates = ['8/27/2017'] # add multiple to search for multiple time periods at once\n",
    "dates = [datetime.datetime.strptime(item,'%m/%d/%Y') for item in dates]\n",
    "daysBeforeAfter = 12 # days"
   ]
  },
  {
   "cell_type": "markdown",
   "id": "f8c91189-7e39-46db-93b1-a6ef410bb380",
   "metadata": {},
   "source": [
    "### Optional: manually upload a CSV with cloud cover for Planet images, extracted manually from Planet Explorer\n",
    "Since we know that currently, the Planet data does not return properly using the API (for given dates?), it is sensible to manually create a CSV file of Planet images with their cloud cover and % area coverage from Planet explorer."
   ]
  },
  {
   "cell_type": "code",
   "execution_count": 30,
   "id": "1f286a2e-af97-495b-b328-c821556dd52e",
   "metadata": {},
   "outputs": [],
   "source": [
    "planetCSV = 'Z:/media/mule/users/alexsaunders/FloodJusticeData/planet/houston.csv'"
   ]
  },
  {
   "cell_type": "markdown",
   "id": "69c8b092-e9de-4c8d-9858-3895b47900d1",
   "metadata": {},
   "source": [
    "## 2. Create graphic of image availability"
   ]
  },
  {
   "cell_type": "code",
   "execution_count": 32,
   "id": "0ecceb39-6800-4ab8-852a-d02343b345be",
   "metadata": {},
   "outputs": [
    {
     "name": "stdout",
     "output_type": "stream",
     "text": [
      "S2 : No images for the TOI and ROI\n",
      "S1 : Success in getting the FilteredCollection with image info\n",
      "MODIS : Success in getting the FilteredCollection with image info\n",
      "L7 : Success in getting the FilteredCollection with image info\n",
      "L8 : Success in getting the FilteredCollection with image info\n",
      "L9 : No images for the TOI and ROI\n"
     ]
    },
    {
     "name": "stderr",
     "output_type": "stream",
     "text": [
      "C:\\Users\\alexsaunders\\Documents\\01_uoa\\04_git\\satelliteImageAvailability\\ImageAvailabilityVisualisation.py:108: UserWarning: This figure includes Axes that are not compatible with tight_layout, so results might be incorrect.\n",
      "  \n"
     ]
    },
    {
     "data": {
      "image/png": "[encoded data removed]",
      "text/plain": [
       "<Figure size 1666.67x600 with 2 Axes>"
      ]
     },
     "metadata": {},
     "output_type": "display_data"
    }
   ],
   "source": [
    "# Loop through event dates\n",
    "for date in dates:\n",
    "    \n",
    "    # Loop through elements of the ROI (if more than one, otherwise will just create a single output for the single ROI)\n",
    "    for k in range(n): \n",
    "        \n",
    "        # Get geometry as geometry format, from the Feature Collection\n",
    "        geometry = ee.Feature(roi.toList(n).get(k)).geometry() \n",
    "        \n",
    "        # Create start and end date in required format for GEE search\n",
    "        startDateStr = (date - timedelta(days=daysBeforeAfter)).strftime('%Y-%m-%d')\n",
    "        endDateStr = (date + timedelta(days=daysBeforeAfter)).strftime('%Y-%m-%d')\n",
    "        \n",
    "        # If you want to use manually defined start and end rather than a central date with a days before / after, specify as string instead\n",
    "        # startDateStr = '2017-08-01'\n",
    "        # endDateStr = '2017-09-01'\n",
    "        \n",
    "        # Create figure\n",
    "        # fig = viz.showImageAvailability(startDateStr, endDateStr, geometry, 'PLAK4ce6a11d243242cbb977d14fd9f456ab', planetCSV=None)\n",
    "        fig = viz.showImageAvailability(startDateStr, endDateStr, geometry, 'PLAK4ce6a11d243242cbb977d14fd9f456ab', planetCSV=planetCSV) # use enter location of Planet csv file if want to include it\n",
    "        # Planet API key: PLAK4ce6a11d243242cbb977d14fd9f456ab\n",
    "        \n",
    "        # Save figure to png\n",
    "        fig.savefig('imageAvailabilityFigure.png')"
   ]
  },
  {
   "cell_type": "markdown",
   "id": "50766bdf-3d67-464a-8f75-ac407cf24b43",
   "metadata": {},
   "source": [
    "### NOTE\n",
    "If you want to get a dataframe of the actual data that creates the graphic, you can run the below"
   ]
  },
  {
   "cell_type": "code",
   "execution_count": 22,
   "id": "b56769d0-125f-40e4-8ece-3722aa73edf9",
   "metadata": {},
   "outputs": [
    {
     "name": "stdout",
     "output_type": "stream",
     "text": [
      "S2 : No images for the TOI and ROI\n",
      "S1 : Success in getting the FilteredCollection with image info\n",
      "MODIS : Success in getting the FilteredCollection with image info\n",
      "L7 : Success in getting the FilteredCollection with image info\n",
      "L8 : Success in getting the FilteredCollection with image info\n",
      "L9 : No images for the TOI and ROI\n"
     ]
    }
   ],
   "source": [
    "# Get dataframes of info\n",
    "date_list_df, sentinel2_df, sentinel1_df, modis_terra_df, landsat7_df, landsat8_df, landsat9_df, PlanetInfoDF = info.GetDataFrames(startDateStr, endDateStr, geometry, 'PLAK4ce6a11d243242cbb977d14fd9f456ab')"
   ]
  },
  {
   "cell_type": "code",
   "execution_count": 25,
   "id": "2752f6e2-963b-4c80-816b-053c93d4e779",
   "metadata": {},
   "outputs": [
    {
     "data": {
      "text/html": [
       "<div>\n",
       "<style scoped>\n",
       "    .dataframe tbody tr th:only-of-type {\n",
       "        vertical-align: middle;\n",
       "    }\n",
       "\n",
       "    .dataframe tbody tr th {\n",
       "        vertical-align: top;\n",
       "    }\n",
       "\n",
       "    .dataframe thead th {\n",
       "        text-align: right;\n",
       "    }\n",
       "</style>\n",
       "<table border=\"1\" class=\"dataframe\">\n",
       "  <thead>\n",
       "    <tr style=\"text-align: right;\">\n",
       "      <th></th>\n",
       "      <th>dateTime</th>\n",
       "      <th>pctArea</th>\n",
       "      <th>pctCloud</th>\n",
       "    </tr>\n",
       "    <tr>\n",
       "      <th>date</th>\n",
       "      <th></th>\n",
       "      <th></th>\n",
       "      <th></th>\n",
       "    </tr>\n",
       "  </thead>\n",
       "  <tbody>\n",
       "    <tr>\n",
       "      <th>2017-08-24</th>\n",
       "      <td>2017-08-24</td>\n",
       "      <td>79.110300</td>\n",
       "      <td>0.0</td>\n",
       "    </tr>\n",
       "    <tr>\n",
       "      <th>2017-08-29</th>\n",
       "      <td>2017-08-29</td>\n",
       "      <td>91.590114</td>\n",
       "      <td>0.0</td>\n",
       "    </tr>\n",
       "    <tr>\n",
       "      <th>2017-09-05</th>\n",
       "      <td>2017-09-05</td>\n",
       "      <td>93.076609</td>\n",
       "      <td>0.0</td>\n",
       "    </tr>\n",
       "    <tr>\n",
       "      <th>2017-08-17</th>\n",
       "      <td>2017-08-17</td>\n",
       "      <td>43.423139</td>\n",
       "      <td>0.0</td>\n",
       "    </tr>\n",
       "    <tr>\n",
       "      <th>2017-08-18</th>\n",
       "      <td>2017-08-18</td>\n",
       "      <td>84.836482</td>\n",
       "      <td>0.0</td>\n",
       "    </tr>\n",
       "    <tr>\n",
       "      <th>2017-08-30</th>\n",
       "      <td>2017-08-30</td>\n",
       "      <td>92.542303</td>\n",
       "      <td>0.0</td>\n",
       "    </tr>\n",
       "    <tr>\n",
       "      <th>2017-08-23</th>\n",
       "      <td>2017-08-23</td>\n",
       "      <td>78.557288</td>\n",
       "      <td>0.0</td>\n",
       "    </tr>\n",
       "    <tr>\n",
       "      <th>2017-09-04</th>\n",
       "      <td>2017-09-04</td>\n",
       "      <td>78.625177</td>\n",
       "      <td>0.0</td>\n",
       "    </tr>\n",
       "  </tbody>\n",
       "</table>\n",
       "</div>"
      ],
      "text/plain": [
       "             dateTime    pctArea  pctCloud\n",
       "date                                      \n",
       "2017-08-24 2017-08-24  79.110300       0.0\n",
       "2017-08-29 2017-08-29  91.590114       0.0\n",
       "2017-09-05 2017-09-05  93.076609       0.0\n",
       "2017-08-17 2017-08-17  43.423139       0.0\n",
       "2017-08-18 2017-08-18  84.836482       0.0\n",
       "2017-08-30 2017-08-30  92.542303       0.0\n",
       "2017-08-23 2017-08-23  78.557288       0.0\n",
       "2017-09-04 2017-09-04  78.625177       0.0"
      ]
     },
     "execution_count": 25,
     "metadata": {},
     "output_type": "execute_result"
    }
   ],
   "source": [
    "sentinel1_df"
   ]
  },
  {
   "cell_type": "code",
   "execution_count": 34,
   "id": "82741b33-7570-4b12-92f5-3a4b57440347",
   "metadata": {},
   "outputs": [
    {
     "data": {
      "text/html": [
       "<div>\n",
       "<style scoped>\n",
       "    .dataframe tbody tr th:only-of-type {\n",
       "        vertical-align: middle;\n",
       "    }\n",
       "\n",
       "    .dataframe tbody tr th {\n",
       "        vertical-align: top;\n",
       "    }\n",
       "\n",
       "    .dataframe thead th {\n",
       "        text-align: right;\n",
       "    }\n",
       "</style>\n",
       "<table border=\"1\" class=\"dataframe\">\n",
       "  <thead>\n",
       "    <tr style=\"text-align: right;\">\n",
       "      <th></th>\n",
       "      <th>pctArea</th>\n",
       "      <th>pctCloud</th>\n",
       "    </tr>\n",
       "    <tr>\n",
       "      <th>date</th>\n",
       "      <th></th>\n",
       "      <th></th>\n",
       "    </tr>\n",
       "  </thead>\n",
       "  <tbody>\n",
       "    <tr>\n",
       "      <th>2017-08-18</th>\n",
       "      <td>42.892242</td>\n",
       "      <td>18.162856</td>\n",
       "    </tr>\n",
       "    <tr>\n",
       "      <th>2017-09-06</th>\n",
       "      <td>36.208875</td>\n",
       "      <td>10.761334</td>\n",
       "    </tr>\n",
       "    <tr>\n",
       "      <th>2017-09-07</th>\n",
       "      <td>24.453000</td>\n",
       "      <td>0.511480</td>\n",
       "    </tr>\n",
       "  </tbody>\n",
       "</table>\n",
       "</div>"
      ],
      "text/plain": [
       "              pctArea   pctCloud\n",
       "date                            \n",
       "2017-08-18  42.892242  18.162856\n",
       "2017-09-06  36.208875  10.761334\n",
       "2017-09-07  24.453000   0.511480"
      ]
     },
     "execution_count": 34,
     "metadata": {},
     "output_type": "execute_result"
    }
   ],
   "source": [
    "# See how the Planet availability return is not complete\n",
    "PlanetInfoDF"
   ]
  }
 ],
 "metadata": {
  "kernelspec": {
   "display_name": "Python 3 (ipykernel)",
   "language": "python",
   "name": "python3"
  },
  "language_info": {
   "codemirror_mode": {
    "name": "ipython",
    "version": 3
   },
   "file_extension": ".py",
   "mimetype": "text/x-python",
   "name": "python",
   "nbconvert_exporter": "python",
   "pygments_lexer": "ipython3",
   "version": "3.8.13"
  }
 },
 "nbformat": 4,
 "nbformat_minor": 5
}
