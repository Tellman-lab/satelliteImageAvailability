{
 "cells": [
  {
   "cell_type": "markdown",
   "id": "30841a95-2011-4998-b2e7-6942a648624d",
   "metadata": {},
   "source": [
    "# createImageAvailabilityGraphic\n",
    "Code to create a graphic of available satellite images from several typical satellite-sensors, given a user-defined region and time period of interest."
   ]
  },
  {
   "cell_type": "markdown",
   "id": "3ebb6a7e-5fa8-46f2-a5cb-2763239656c4",
   "metadata": {},
   "source": [
    "## 0. Imports"
   ]
  },
  {
   "cell_type": "code",
   "execution_count": 25,
   "id": "3aace738-18ec-4a75-8468-93dc4d34ae58",
   "metadata": {},
   "outputs": [
    {
     "data": {
      "text/plain": [
       "<module 'ImageAvailabilityInfos' from 'C:\\\\Users\\\\alexa\\\\Documents\\\\GitHub\\\\satelliteImageAvailability\\\\ImageAvailabilityInfos.py'>"
      ]
     },
     "execution_count": 25,
     "metadata": {},
     "output_type": "execute_result"
    }
   ],
   "source": [
    "import datetime\n",
    "from datetime import timedelta\n",
    "import pandas as pd\n",
    "import numpy as np\n",
    "import seaborn as sns\n",
    "import matplotlib.pyplot as plt\n",
    "import geemap\n",
    "import importlib\n",
    "import ImageAvailabilityVisualisation as viz\n",
    "importlib.reload(viz)\n",
    "import ImageAvailabilityInfos as info\n",
    "importlib.reload(info)"
   ]
  },
  {
   "cell_type": "markdown",
   "id": "9a546c5a-9811-4cc2-9053-675fea378ec7",
   "metadata": {},
   "source": [
    "### Import and authenticate GEE"
   ]
  },
  {
   "cell_type": "code",
   "execution_count": 2,
   "id": "e5eddfcb-4eda-47de-85cc-f655f681c07a",
   "metadata": {},
   "outputs": [],
   "source": [
    "import ee"
   ]
  },
  {
   "cell_type": "code",
   "execution_count": 3,
   "id": "41ed81a3-0951-49d5-bd64-de0f4d79244b",
   "metadata": {},
   "outputs": [
    {
     "data": {
      "text/html": [
       "<p>To authorize access needed by Earth Engine, open the following\n",
       "        URL in a web browser and follow the instructions:</p>\n",
       "        <p><a href=https://code.earthengine.google.com/client-auth?scopes=https%3A//www.googleapis.com/auth/earthengine%20https%3A//www.googleapis.com/auth/devstorage.full_control&request_id=VPC5rki1Qq_qg9d4MW5pObwjl-GyQxbICxLiJBFkl5c&tc=GiYuV0GASQ_efY0T_PUCXfMoHAjOyOHxSdBO0DHJGGc&cc=RFFJNMJo89m9x6u8i4vYEqEAkrOO8H2cAaYY4mVdgow>https://code.earthengine.google.com/client-auth?scopes=https%3A//www.googleapis.com/auth/earthengine%20https%3A//www.googleapis.com/auth/devstorage.full_control&request_id=VPC5rki1Qq_qg9d4MW5pObwjl-GyQxbICxLiJBFkl5c&tc=GiYuV0GASQ_efY0T_PUCXfMoHAjOyOHxSdBO0DHJGGc&cc=RFFJNMJo89m9x6u8i4vYEqEAkrOO8H2cAaYY4mVdgow</a></p>\n",
       "        <p>The authorization workflow will generate a code, which you should paste in the box below.</p>\n",
       "        "
      ],
      "text/plain": [
       "<IPython.core.display.HTML object>"
      ]
     },
     "metadata": {},
     "output_type": "display_data"
    },
    {
     "name": "stdin",
     "output_type": "stream",
     "text": [
      "Enter verification code:  4/1AfJohXkSEP56Cr35szk2PcIpVxP6JmDyJ9rEDM9n-X8xkqY9UUDO_l2gLzQ\n"
     ]
    },
    {
     "name": "stdout",
     "output_type": "stream",
     "text": [
      "\n",
      "Successfully saved authorization token.\n"
     ]
    }
   ],
   "source": [
    "ee.Authenticate()"
   ]
  },
  {
   "cell_type": "code",
   "execution_count": 4,
   "id": "a2391f17-3408-472e-a757-14bc21c86ab0",
   "metadata": {},
   "outputs": [],
   "source": [
    "ee.Initialize()"
   ]
  },
  {
   "cell_type": "markdown",
   "id": "f7e6b977-1cd0-495f-b0d7-6b5fa42f2941",
   "metadata": {},
   "source": [
    "## 1. Define region and time of interest"
   ]
  },
  {
   "cell_type": "markdown",
   "id": "952c5325-3a13-4d0e-86cb-596aeaf6d054",
   "metadata": {
    "tags": []
   },
   "source": [
    "### Region of Interest\n",
    "This is easiest to do by calling a FeatureCollection of an asset (i.e. shapefile or geojson) already uploaded to GEE."
   ]
  },
  {
   "cell_type": "code",
   "execution_count": 26,
   "id": "b3f89a1f-9b00-488a-bdac-8b92de1a6e9c",
   "metadata": {},
   "outputs": [],
   "source": [
    "# Define the region of interest - using shapefile for Rio_Grande\n",
    "roi = ee.FeatureCollection(\"users/alex-saunders/houston\") # will need to upload shapefile to assets in your own GEE account, or we switch this for shapefile to reside in a earth engine cloud project\n",
    "# Dissolve to one element\n",
    "roiDissolved = ee.FeatureCollection(roi.geometry().dissolve())\n",
    "# Get number of elements in the region of interest file (e.g., could have multiple watersheds / admin areas in the same shapefile)\n",
    "n = roi.size().getInfo()\n",
    "nDissolved = roiDissolved.size().getInfo()"
   ]
  },
  {
   "cell_type": "markdown",
   "id": "27ae3053-9dc9-471e-8028-39186a6d36e7",
   "metadata": {
    "tags": []
   },
   "source": [
    "### Time of interest\n",
    "__Guidance:__\n",
    "* Currently define the \"central date\" you want to look for and the number of days either side.\n",
    "* If preferred can manually specify start and end date as strings in correct format - see \"options to edit in below code\"\n",
    "* Can provide multiple dates and multiple images will be created."
   ]
  },
  {
   "cell_type": "code",
   "execution_count": 27,
   "id": "80518da8-30a2-4b25-adbc-582f4cf22469",
   "metadata": {},
   "outputs": [],
   "source": [
    "# Define the dates of interest and the number of days either side of the target date for whcih to create the visualization\n",
    "# Add multiple dates to search for multiple time periods / events at once\n",
    "dates = ['8/27/2017', '8/15/2021'] \n",
    "dates = [datetime.datetime.strptime(item,'%m/%d/%Y') for item in dates]\n",
    "daysBeforeAfter = 12 # days"
   ]
  },
  {
   "cell_type": "markdown",
   "id": "f8c91189-7e39-46db-93b1-a6ef410bb380",
   "metadata": {},
   "source": [
    "### Optional: manually upload a CSV with cloud cover for Planet images, extracted manually from Planet Explorer\n",
    "Since we know that currently, the Planet data does not return properly using the API (for given dates?), it is sensible to manually create a CSV file of Planet images with their cloud cover and % area coverage from Planet explorer."
   ]
  },
  {
   "cell_type": "code",
   "execution_count": 28,
   "id": "1f286a2e-af97-495b-b328-c821556dd52e",
   "metadata": {},
   "outputs": [],
   "source": [
    "planetCSV = 'Z:/media/mule/users/alexsaunders/FloodJusticeData/planet/houston.csv'"
   ]
  },
  {
   "cell_type": "markdown",
   "id": "69c8b092-e9de-4c8d-9858-3895b47900d1",
   "metadata": {},
   "source": [
    "## 2. Create graphic of image availability"
   ]
  },
  {
   "cell_type": "markdown",
   "id": "21af526f-d10e-40ac-b87c-b16862652f2b",
   "metadata": {},
   "source": [
    "__Enter your Planet API key__"
   ]
  },
  {
   "cell_type": "code",
   "execution_count": 29,
   "id": "96eb7b6c-e3ba-48f7-a655-9476d395bc21",
   "metadata": {},
   "outputs": [],
   "source": [
    "planetKey = 'PLAK4ce6a11d243242cbb977d14fd9f456ab'"
   ]
  },
  {
   "cell_type": "markdown",
   "id": "c4ddf1fd-49c9-4547-87fa-e74f5ce14bac",
   "metadata": {},
   "source": [
    "### User options to edit in below code:\n",
    "* __Replace planetCSV=None__ with location of Planet csv file if want to include it, otherwise the default Planet API will be used-this can give erroneous results\n",
    "* __Replace includeS2TOA=False__ with includeS2TOA=True if want to include Sentinel-2 top of atmosphere data if there is no surface reflectance data available - S2 SR data tends to start around end of 2018, whereas TOA data is available from roughly 2015-16 onwards\n",
    "* __Replace startDateStr and endDateStr__ if you want to manually define start and end dates, rather than rely on the centre dates and buffer days created above"
   ]
  },
  {
   "cell_type": "code",
   "execution_count": null,
   "id": "0ecceb39-6800-4ab8-852a-d02343b345be",
   "metadata": {},
   "outputs": [
    {
     "name": "stdout",
     "output_type": "stream",
     "text": [
      "S2 : No images for the TOI and ROI\n",
      "S2 TOA : Success in getting the FilteredCollection with image info\n",
      "S1 : Success in getting the FilteredCollection with image info\n",
      "MODIS : Success in getting the FilteredCollection with image info\n",
      "L7 : Success in getting the FilteredCollection with image info\n",
      "L8 : Success in getting the FilteredCollection with image info\n",
      "L9 : No images for the TOI and ROI\n"
     ]
    },
    {
     "name": "stderr",
     "output_type": "stream",
     "text": [
      "C:\\Users\\alexa\\Documents\\GitHub\\satelliteImageAvailability\\ImageAvailabilityVisualisation.py:111: UserWarning: This figure includes Axes that are not compatible with tight_layout, so results might be incorrect.\n",
      "  fig.tight_layout()\n"
     ]
    },
    {
     "data": {
      "image/png": "[encoded data removed]",
      "text/plain": [
       "<Figure size 1666.67x600 with 2 Axes>"
      ]
     },
     "metadata": {},
     "output_type": "display_data"
    },
    {
     "name": "stdout",
     "output_type": "stream",
     "text": [
      "S2 : Success in getting the FilteredCollection with image info\n",
      "S2 TOA : Success in getting the FilteredCollection with image info\n",
      "S1 : Success in getting the FilteredCollection with image info\n",
      "MODIS : Success in getting the FilteredCollection with image info\n",
      "L7 : Success in getting the FilteredCollection with image info\n",
      "L8 : Success in getting the FilteredCollection with image info\n",
      "L9 : No images for the TOI and ROI\n"
     ]
    }
   ],
   "source": [
    "# Loop through event dates - will produce as many images as there are event dates\n",
    "for date in dates:\n",
    "    \n",
    "    # Loop through elements of the ROI (if more than one, otherwise will just create a single output for the single ROI)\n",
    "    for k in range(n): \n",
    "        \n",
    "        # Get geometry as geometry format, from the Feature Collection\n",
    "        geometry = ee.Feature(roi.toList(n).get(k)).geometry() \n",
    "        \n",
    "        # Create start and end date in required format for GEE search\n",
    "        startDateStr = (date - timedelta(days=daysBeforeAfter)).strftime('%Y-%m-%d')\n",
    "        endDateStr = (date + timedelta(days=daysBeforeAfter)).strftime('%Y-%m-%d')\n",
    "        \n",
    "        # If you want to use manually defined start and end rather than a central date with a days before / after, specify as string instead\n",
    "        # startDateStr = '2017-08-01'\n",
    "        # endDateStr = '2017-09-01'\n",
    "        \n",
    "        # Create figure\n",
    "        # fig = viz.showImageAvailability(startDateStr, endDateStr, geometry, planetKey, planetCSV=None, includeS2TOA=False) \n",
    "        fig = viz.showImageAvailability(startDateStr, endDateStr, geometry, planetKey, planetCSV=planetCSV, includeS2TOA=True) \n",
    "        \n",
    "        # Save figure to png\n",
    "        fig.savefig('imageAvailabilityFigure.png')"
   ]
  },
  {
   "cell_type": "markdown",
   "id": "50766bdf-3d67-464a-8f75-ac407cf24b43",
   "metadata": {},
   "source": [
    "### NOTE\n",
    "If you want to get a dataframe of the actual data that creates the graphic, you can run the below"
   ]
  },
  {
   "cell_type": "code",
   "execution_count": 21,
   "id": "b56769d0-125f-40e4-8ece-3722aa73edf9",
   "metadata": {},
   "outputs": [
    {
     "name": "stdout",
     "output_type": "stream",
     "text": [
      "S2 : Success in getting the FilteredCollection with image info\n",
      "S2 TOA : Success in getting the FilteredCollection with image info\n",
      "S1 : Success in getting the FilteredCollection with image info\n",
      "MODIS : Success in getting the FilteredCollection with image info\n",
      "L7 : Success in getting the FilteredCollection with image info\n",
      "L8 : Success in getting the FilteredCollection with image info\n",
      "L9 : No images for the TOI and ROI\n"
     ]
    }
   ],
   "source": [
    "# Get dataframes of info\n",
    "date_list_df, sentinel2_df, sentinel1_df, modis_terra_df, landsat7_df, landsat8_df, landsat9_df, PlanetInfoDF, s2TOAFlag = info.GetDataFrames(startDateStr, endDateStr, geometry, planetKey, planetCSV=None, includeS2TOA=False)"
   ]
  },
  {
   "cell_type": "code",
   "execution_count": 22,
   "id": "2752f6e2-963b-4c80-816b-053c93d4e779",
   "metadata": {},
   "outputs": [
    {
     "data": {
      "text/html": [
       "<div>\n",
       "<style scoped>\n",
       "    .dataframe tbody tr th:only-of-type {\n",
       "        vertical-align: middle;\n",
       "    }\n",
       "\n",
       "    .dataframe tbody tr th {\n",
       "        vertical-align: top;\n",
       "    }\n",
       "\n",
       "    .dataframe thead th {\n",
       "        text-align: right;\n",
       "    }\n",
       "</style>\n",
       "<table border=\"1\" class=\"dataframe\">\n",
       "  <thead>\n",
       "    <tr style=\"text-align: right;\">\n",
       "      <th></th>\n",
       "      <th>dateTime</th>\n",
       "      <th>pctArea</th>\n",
       "      <th>pctCloud</th>\n",
       "    </tr>\n",
       "    <tr>\n",
       "      <th>date</th>\n",
       "      <th></th>\n",
       "      <th></th>\n",
       "      <th></th>\n",
       "    </tr>\n",
       "  </thead>\n",
       "  <tbody>\n",
       "    <tr>\n",
       "      <th>2021-08-03</th>\n",
       "      <td>2021-08-03</td>\n",
       "      <td>93.030258</td>\n",
       "      <td>0.0</td>\n",
       "    </tr>\n",
       "    <tr>\n",
       "      <th>2021-08-08</th>\n",
       "      <td>2021-08-08</td>\n",
       "      <td>91.452873</td>\n",
       "      <td>0.0</td>\n",
       "    </tr>\n",
       "    <tr>\n",
       "      <th>2021-08-15</th>\n",
       "      <td>2021-08-15</td>\n",
       "      <td>93.021930</td>\n",
       "      <td>0.0</td>\n",
       "    </tr>\n",
       "    <tr>\n",
       "      <th>2021-08-20</th>\n",
       "      <td>2021-08-20</td>\n",
       "      <td>91.435826</td>\n",
       "      <td>0.0</td>\n",
       "    </tr>\n",
       "    <tr>\n",
       "      <th>2021-08-09</th>\n",
       "      <td>2021-08-09</td>\n",
       "      <td>79.072476</td>\n",
       "      <td>0.0</td>\n",
       "    </tr>\n",
       "    <tr>\n",
       "      <th>2021-08-21</th>\n",
       "      <td>2021-08-21</td>\n",
       "      <td>84.948487</td>\n",
       "      <td>0.0</td>\n",
       "    </tr>\n",
       "    <tr>\n",
       "      <th>2021-08-14</th>\n",
       "      <td>2021-08-14</td>\n",
       "      <td>79.150550</td>\n",
       "      <td>0.0</td>\n",
       "    </tr>\n",
       "    <tr>\n",
       "      <th>2021-08-26</th>\n",
       "      <td>2021-08-26</td>\n",
       "      <td>44.056389</td>\n",
       "      <td>0.0</td>\n",
       "    </tr>\n",
       "  </tbody>\n",
       "</table>\n",
       "</div>"
      ],
      "text/plain": [
       "             dateTime    pctArea  pctCloud\n",
       "date                                      \n",
       "2021-08-03 2021-08-03  93.030258       0.0\n",
       "2021-08-08 2021-08-08  91.452873       0.0\n",
       "2021-08-15 2021-08-15  93.021930       0.0\n",
       "2021-08-20 2021-08-20  91.435826       0.0\n",
       "2021-08-09 2021-08-09  79.072476       0.0\n",
       "2021-08-21 2021-08-21  84.948487       0.0\n",
       "2021-08-14 2021-08-14  79.150550       0.0\n",
       "2021-08-26 2021-08-26  44.056389       0.0"
      ]
     },
     "execution_count": 22,
     "metadata": {},
     "output_type": "execute_result"
    }
   ],
   "source": [
    "sentinel1_df"
   ]
  },
  {
   "cell_type": "code",
   "execution_count": 24,
   "id": "82741b33-7570-4b12-92f5-3a4b57440347",
   "metadata": {},
   "outputs": [
    {
     "data": {
      "text/html": [
       "<div>\n",
       "<style scoped>\n",
       "    .dataframe tbody tr th:only-of-type {\n",
       "        vertical-align: middle;\n",
       "    }\n",
       "\n",
       "    .dataframe tbody tr th {\n",
       "        vertical-align: top;\n",
       "    }\n",
       "\n",
       "    .dataframe thead th {\n",
       "        text-align: right;\n",
       "    }\n",
       "</style>\n",
       "<table border=\"1\" class=\"dataframe\">\n",
       "  <thead>\n",
       "    <tr style=\"text-align: right;\">\n",
       "      <th></th>\n",
       "      <th>pctArea</th>\n",
       "      <th>pctCloud</th>\n",
       "    </tr>\n",
       "    <tr>\n",
       "      <th>date</th>\n",
       "      <th></th>\n",
       "      <th></th>\n",
       "    </tr>\n",
       "  </thead>\n",
       "  <tbody>\n",
       "    <tr>\n",
       "      <th>2021-08-03</th>\n",
       "      <td>12.459196</td>\n",
       "      <td>86.328866</td>\n",
       "    </tr>\n",
       "    <tr>\n",
       "      <th>2021-08-04</th>\n",
       "      <td>11.029290</td>\n",
       "      <td>89.715264</td>\n",
       "    </tr>\n",
       "    <tr>\n",
       "      <th>2021-08-05</th>\n",
       "      <td>9.117700</td>\n",
       "      <td>66.012355</td>\n",
       "    </tr>\n",
       "    <tr>\n",
       "      <th>2021-08-06</th>\n",
       "      <td>2.213436</td>\n",
       "      <td>98.000000</td>\n",
       "    </tr>\n",
       "    <tr>\n",
       "      <th>2021-08-07</th>\n",
       "      <td>0.207022</td>\n",
       "      <td>39.762328</td>\n",
       "    </tr>\n",
       "    <tr>\n",
       "      <th>2021-08-09</th>\n",
       "      <td>6.282237</td>\n",
       "      <td>1.363430</td>\n",
       "    </tr>\n",
       "    <tr>\n",
       "      <th>2021-08-12</th>\n",
       "      <td>2.301603</td>\n",
       "      <td>48.669038</td>\n",
       "    </tr>\n",
       "    <tr>\n",
       "      <th>2021-08-13</th>\n",
       "      <td>10.740424</td>\n",
       "      <td>33.815550</td>\n",
       "    </tr>\n",
       "    <tr>\n",
       "      <th>2021-08-14</th>\n",
       "      <td>2.868301</td>\n",
       "      <td>6.000000</td>\n",
       "    </tr>\n",
       "    <tr>\n",
       "      <th>2021-08-16</th>\n",
       "      <td>6.828948</td>\n",
       "      <td>32.988507</td>\n",
       "    </tr>\n",
       "    <tr>\n",
       "      <th>2021-08-18</th>\n",
       "      <td>29.946816</td>\n",
       "      <td>54.029498</td>\n",
       "    </tr>\n",
       "    <tr>\n",
       "      <th>2021-08-19</th>\n",
       "      <td>2.640663</td>\n",
       "      <td>63.000000</td>\n",
       "    </tr>\n",
       "    <tr>\n",
       "      <th>2021-08-21</th>\n",
       "      <td>0.843855</td>\n",
       "      <td>1.000000</td>\n",
       "    </tr>\n",
       "    <tr>\n",
       "      <th>2021-08-22</th>\n",
       "      <td>3.328868</td>\n",
       "      <td>18.483729</td>\n",
       "    </tr>\n",
       "    <tr>\n",
       "      <th>2021-08-24</th>\n",
       "      <td>1.173976</td>\n",
       "      <td>0.000000</td>\n",
       "    </tr>\n",
       "    <tr>\n",
       "      <th>2021-08-25</th>\n",
       "      <td>73.458859</td>\n",
       "      <td>22.246999</td>\n",
       "    </tr>\n",
       "    <tr>\n",
       "      <th>2021-08-26</th>\n",
       "      <td>78.468142</td>\n",
       "      <td>21.270848</td>\n",
       "    </tr>\n",
       "  </tbody>\n",
       "</table>\n",
       "</div>"
      ],
      "text/plain": [
       "              pctArea   pctCloud\n",
       "date                            \n",
       "2021-08-03  12.459196  86.328866\n",
       "2021-08-04  11.029290  89.715264\n",
       "2021-08-05   9.117700  66.012355\n",
       "2021-08-06   2.213436  98.000000\n",
       "2021-08-07   0.207022  39.762328\n",
       "2021-08-09   6.282237   1.363430\n",
       "2021-08-12   2.301603  48.669038\n",
       "2021-08-13  10.740424  33.815550\n",
       "2021-08-14   2.868301   6.000000\n",
       "2021-08-16   6.828948  32.988507\n",
       "2021-08-18  29.946816  54.029498\n",
       "2021-08-19   2.640663  63.000000\n",
       "2021-08-21   0.843855   1.000000\n",
       "2021-08-22   3.328868  18.483729\n",
       "2021-08-24   1.173976   0.000000\n",
       "2021-08-25  73.458859  22.246999\n",
       "2021-08-26  78.468142  21.270848"
      ]
     },
     "execution_count": 24,
     "metadata": {},
     "output_type": "execute_result"
    }
   ],
   "source": [
    "PlanetInfoDF"
   ]
  }
 ],
 "metadata": {
  "kernelspec": {
   "display_name": "Python 3 (ipykernel)",
   "language": "python",
   "name": "python3"
  },
  "language_info": {
   "codemirror_mode": {
    "name": "ipython",
    "version": 3
   },
   "file_extension": ".py",
   "mimetype": "text/x-python",
   "name": "python",
   "nbconvert_exporter": "python",
   "pygments_lexer": "ipython3",
   "version": "3.8.14"
  }
 },
 "nbformat": 4,
 "nbformat_minor": 5
}
